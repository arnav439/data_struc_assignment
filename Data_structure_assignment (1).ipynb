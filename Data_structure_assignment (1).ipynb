{
 "cells": [
  {
   "cell_type": "code",
   "execution_count": 1,
   "metadata": {
    "colab": {
     "base_uri": "https://localhost:8080/"
    },
    "id": "2EArzQ6F92Y0",
    "outputId": "6665f3af-b281-4a53-c4b5-6b5bf7bae7b4"
   },
   "outputs": [
    {
     "name": "stdin",
     "output_type": "stream",
     "text": [
      "enter a string: hello\n"
     ]
    },
    {
     "name": "stdout",
     "output_type": "stream",
     "text": [
      "olleh\n"
     ]
    }
   ],
   "source": [
    "#  1. code to reverse a string\n",
    "str=input(\"enter a string:\")\n",
    "str1=str[::-1]\n",
    "print(str1)"
   ]
  },
  {
   "cell_type": "code",
   "execution_count": 2,
   "metadata": {
    "colab": {
     "base_uri": "https://localhost:8080/"
    },
    "id": "-t7GLPKQ_oFQ",
    "outputId": "2b8f993d-4c1a-49e7-8b92-11c7e3f7c9e2"
   },
   "outputs": [
    {
     "name": "stdin",
     "output_type": "stream",
     "text": [
      "enter a string: hello\n"
     ]
    },
    {
     "name": "stdout",
     "output_type": "stream",
     "text": [
      "number of vowels are: 2\n"
     ]
    }
   ],
   "source": [
    "#  2. code to count the number of vowels in a string .\n",
    "str= input(\"enter a string:\")\n",
    "vowels=0\n",
    "for i in str:\n",
    "    if (i==\"a\" or i==\"e\" or i==\"i\" or i==\"o\" or i==\"u\" or i==\"A\" or i==\"E\" or i==\"I\" or i == \"O\" or i==\"U\"):\n",
    "        vowels=vowels+1\n",
    "print(\"number of vowels are:\",vowels)"
   ]
  },
  {
   "cell_type": "code",
   "execution_count": 3,
   "metadata": {
    "colab": {
     "base_uri": "https://localhost:8080/"
    },
    "id": "Pt6HtKN4A7Kf",
    "outputId": "347aef0a-d7b1-4fcc-eade-b91282dcda3a"
   },
   "outputs": [
    {
     "name": "stdin",
     "output_type": "stream",
     "text": [
      "enter a string: racecar\n"
     ]
    },
    {
     "name": "stdout",
     "output_type": "stream",
     "text": [
      "given string is a paidrome\n"
     ]
    }
   ],
   "source": [
    "# 3. code to check given string is a palidrome or not\n",
    "str= input(\"enter a string:\")\n",
    "if str[::1]==str[::-1]:\n",
    "    print(\"given string is a paidrome\")\n",
    "else:\n",
    "    print(\"not a palidrome\")\n"
   ]
  },
  {
   "cell_type": "code",
   "execution_count": 4,
   "metadata": {
    "colab": {
     "base_uri": "https://localhost:8080/"
    },
    "id": "UMDOev_ZEwP2",
    "outputId": "3a6c9e4d-6def-4de1-b4e6-2fafd91baaac"
   },
   "outputs": [
    {
     "name": "stdin",
     "output_type": "stream",
     "text": [
      "enter a string: listen\n",
      "enter another string: silent\n"
     ]
    },
    {
     "name": "stdout",
     "output_type": "stream",
     "text": [
      "given strings are anagrams of each other\n"
     ]
    }
   ],
   "source": [
    "# 4.  code to check 2 given strings are anagrams of each other or not\n",
    "str_1= input(\"enter a string:\")\n",
    "str_2= input(\"enter another string:\")\n",
    "if sorted(str_1)== sorted(str_2):\n",
    "    print(\"given strings are anagrams of each other\")\n",
    "else:\n",
    "    print(\"given strings are NOT anagrams of each other\")"
   ]
  },
  {
   "cell_type": "code",
   "execution_count": 5,
   "metadata": {
    "colab": {
     "base_uri": "https://localhost:8080/"
    },
    "id": "rjnP6Y5tFxE-",
    "outputId": "c3e821f9-e3ae-4853-874c-62dfdb142608"
   },
   "outputs": [
    {
     "data": {
      "text/plain": [
       "[0, 5, 10]"
      ]
     },
     "execution_count": 5,
     "metadata": {},
     "output_type": "execute_result"
    }
   ],
   "source": [
    "# 5. code to find all occurences of the given substring within another string\n",
    "def find_all(a_str, sub):\n",
    "    start = 0\n",
    "    while True:\n",
    "        start = a_str.find(sub, start)\n",
    "        if start == -1: return\n",
    "        yield start\n",
    "        start += len(sub) # use start += 1 to find overlapping matches\n",
    "\n",
    "list(find_all('test test test', 'test'))\n",
    "\n"
   ]
  },
  {
   "cell_type": "code",
   "execution_count": 7,
   "metadata": {},
   "outputs": [
    {
     "name": "stdin",
     "output_type": "stream",
     "text": [
      "Enter a string to compress:  \"aaacccbbbffff\"\n"
     ]
    },
    {
     "ename": "TypeError",
     "evalue": "'str' object is not callable",
     "output_type": "error",
     "traceback": [
      "\u001b[1;31m---------------------------------------------------------------------------\u001b[0m",
      "\u001b[1;31mTypeError\u001b[0m                                 Traceback (most recent call last)",
      "Cell \u001b[1;32mIn[7], line 29\u001b[0m\n\u001b[0;32m     27\u001b[0m \u001b[38;5;66;03m# Test the function\u001b[39;00m\n\u001b[0;32m     28\u001b[0m input_string \u001b[38;5;241m=\u001b[39m \u001b[38;5;28minput\u001b[39m(\u001b[38;5;124m\"\u001b[39m\u001b[38;5;124mEnter a string to compress: \u001b[39m\u001b[38;5;124m\"\u001b[39m)\n\u001b[1;32m---> 29\u001b[0m compressed \u001b[38;5;241m=\u001b[39m \u001b[43mcompress_string\u001b[49m\u001b[43m(\u001b[49m\u001b[43minput_string\u001b[49m\u001b[43m)\u001b[49m\n\u001b[0;32m     30\u001b[0m \u001b[38;5;28mprint\u001b[39m(\u001b[38;5;124m\"\u001b[39m\u001b[38;5;124mCompressed string:\u001b[39m\u001b[38;5;124m\"\u001b[39m, compressed)\n",
      "Cell \u001b[1;32mIn[7], line 15\u001b[0m, in \u001b[0;36mcompress_string\u001b[1;34m(s)\u001b[0m\n\u001b[0;32m     12\u001b[0m         count \u001b[38;5;241m+\u001b[39m\u001b[38;5;241m=\u001b[39m \u001b[38;5;241m1\u001b[39m\n\u001b[0;32m     13\u001b[0m     \u001b[38;5;28;01melse\u001b[39;00m:\n\u001b[0;32m     14\u001b[0m         \u001b[38;5;66;03m# Otherwise, append the previous character and its count to the compressed list\u001b[39;00m\n\u001b[1;32m---> 15\u001b[0m         compressed\u001b[38;5;241m.\u001b[39mappend(s[i \u001b[38;5;241m-\u001b[39m \u001b[38;5;241m1\u001b[39m] \u001b[38;5;241m+\u001b[39m \u001b[38;5;28;43mstr\u001b[39;49m\u001b[43m(\u001b[49m\u001b[43mcount\u001b[49m\u001b[43m)\u001b[49m)\n\u001b[0;32m     16\u001b[0m         count \u001b[38;5;241m=\u001b[39m \u001b[38;5;241m1\u001b[39m  \u001b[38;5;66;03m# Reset count for the new character\u001b[39;00m\n\u001b[0;32m     18\u001b[0m \u001b[38;5;66;03m# Append the last character and its count\u001b[39;00m\n",
      "\u001b[1;31mTypeError\u001b[0m: 'str' object is not callable"
     ]
    }
   ],
   "source": [
    "# 6.  code to perform basic string compresssion using the count of repeated chracters\n",
    "\n",
    "def compress_string(s):\n",
    "    # Initialize variables\n",
    "    compressed = []\n",
    "    count = 1\n",
    "\n",
    "    # Iterate through the string\n",
    "    for i in range(1, len(s)):\n",
    "        # If the current character is the same as the previous one, increment the count\n",
    "        if s[i] == s[i - 1]:\n",
    "            count += 1\n",
    "        else:\n",
    "            # Otherwise, append the previous character and its count to the compressed list\n",
    "            compressed.append(s[i - 1] + str(count))\n",
    "            count = 1  # Reset count for the new character\n",
    "\n",
    "    # Append the last character and its count\n",
    "    compressed.append(s[-1] + str(count))\n",
    "\n",
    "    # Join the list into a string\n",
    "    compressed_string = ''.join(compressed)\n",
    "\n",
    "    # Return the compressed string if it's shorter than the original string; otherwise, return the original string\n",
    "    return compressed_string if len(compressed_string) < len(s) else s\n",
    "\n",
    "# Test the function\n",
    "input_string = input(\"Enter a string to compress: \")\n",
    "compressed = compress_string(input_string)\n",
    "print(\"Compressed string:\", compressed)\n"
   ]
  },
  {
   "cell_type": "code",
   "execution_count": 8,
   "metadata": {
    "colab": {
     "base_uri": "https://localhost:8080/"
    },
    "id": "xkp-dez6yh5I",
    "outputId": "9d0f2fb3-bf53-43af-ccf4-7bf27d7a4e21"
   },
   "outputs": [
    {
     "name": "stdin",
     "output_type": "stream",
     "text": [
      "Enter string:  orange\n"
     ]
    },
    {
     "name": "stdout",
     "output_type": "stream",
     "text": [
      "String contains all unique characters.\n"
     ]
    }
   ],
   "source": [
    "#7.  code to determine if a string has all unique character or not\n",
    "str_7 = input(\"Enter string: \")\n",
    "if len(set(str_7)) == len(str_7):\n",
    "    print(\"String contains all unique characters.\")\n",
    "else:\n",
    "    print(\"String contains duplicate characters.\")"
   ]
  },
  {
   "cell_type": "code",
   "execution_count": 9,
   "metadata": {
    "colab": {
     "base_uri": "https://localhost:8080/"
    },
    "id": "r12t6P-w3JSU",
    "outputId": "ad6a45a5-502f-485d-db92-8f608de05350"
   },
   "outputs": [
    {
     "name": "stdin",
     "output_type": "stream",
     "text": [
      "enter string: Hello\n"
     ]
    },
    {
     "name": "stdout",
     "output_type": "stream",
     "text": [
      "hello\n",
      "HELLO\n"
     ]
    }
   ],
   "source": [
    "#8. code to cnvert given string to uppercase or loweercase\n",
    "str_8=input(\"enter string:\")\n",
    "print(str_8.lower())\n",
    "print(str_8.upper())"
   ]
  },
  {
   "cell_type": "code",
   "execution_count": 10,
   "metadata": {
    "colab": {
     "base_uri": "https://localhost:8080/"
    },
    "id": "am1Bn9CK3W0U",
    "outputId": "d15e56bf-bd98-4ba3-fc74-69a79d840d79"
   },
   "outputs": [
    {
     "name": "stdin",
     "output_type": "stream",
     "text": [
      "enter string: hello\n"
     ]
    },
    {
     "name": "stdout",
     "output_type": "stream",
     "text": [
      "5\n"
     ]
    }
   ],
   "source": [
    "# 9. code to count number of words in a string\n",
    "str_9=input(\"enter string:\")\n",
    "print(len(str_9))"
   ]
  },
  {
   "cell_type": "code",
   "execution_count": 11,
   "metadata": {
    "colab": {
     "base_uri": "https://localhost:8080/"
    },
    "id": "WuUBzilr3eve",
    "outputId": "a0c02e0b-f9c1-4159-bfd2-2ec1587da7db"
   },
   "outputs": [
    {
     "name": "stdin",
     "output_type": "stream",
     "text": [
      "enter string: hello\n",
      "enter string: buddy!!\n"
     ]
    },
    {
     "name": "stdout",
     "output_type": "stream",
     "text": [
      "hellobuddy!!\n"
     ]
    }
   ],
   "source": [
    "#10. code to concatenate two strings using + operator\n",
    "str_10=input(\"enter string:\")\n",
    "str_11=input(\"enter string:\")\n",
    "print(str_10+str_11)"
   ]
  },
  {
   "cell_type": "code",
   "execution_count": 12,
   "metadata": {
    "colab": {
     "base_uri": "https://localhost:8080/"
    },
    "id": "tYzpvJCn3tv1",
    "outputId": "29096b25-3a16-4e29-e519-415df625875a"
   },
   "outputs": [
    {
     "name": "stdout",
     "output_type": "stream",
     "text": [
      "[1, 3, 4, 5, 6]\n"
     ]
    }
   ],
   "source": [
    "#11.  code to remove all occurence of specific element in a list\n",
    "def remove_all(lst,element):\n",
    "    while element in lst:\n",
    "        lst.remove(element)\n",
    "\n",
    "lst=[1,2,3,4,2,5,2,6]\n",
    "remove_all(lst,2)\n",
    "print(lst)\n"
   ]
  },
  {
   "cell_type": "code",
   "execution_count": 13,
   "metadata": {
    "colab": {
     "base_uri": "https://localhost:8080/"
    },
    "id": "Al-a5n673yz3",
    "outputId": "b2814e87-9565-4c81-bb7d-e14654fe1a15"
   },
   "outputs": [
    {
     "name": "stdout",
     "output_type": "stream",
     "text": [
      "488\n"
     ]
    }
   ],
   "source": [
    "#12. code to find second largest number in the list of integers\n",
    "lis=[172,4848,122,38,440,48,488]\n",
    "i=sorted(lis)\n",
    "print(i[-2])"
   ]
  },
  {
   "cell_type": "code",
   "execution_count": 14,
   "metadata": {
    "id": "g4zcFiPF72Xd"
   },
   "outputs": [
    {
     "name": "stdout",
     "output_type": "stream",
     "text": [
      "{'apple': 2, 'banana': 3, 'orange': 1}\n"
     ]
    }
   ],
   "source": [
    "#13 .create a code to count the occurence of each element in a list and return in a dictionary with elements as keys and their counts as values\n",
    "def count_occurrences(lst):\n",
    "    count_dict = {}\n",
    "    for element in lst:\n",
    "        if element in count_dict:\n",
    "            count_dict[element] += 1\n",
    "        else:\n",
    "            count_dict[element] = 1\n",
    "    return count_dict\n",
    "\n",
    "# Example \n",
    "my_list = ['apple', 'banana', 'apple', 'orange', 'banana', 'banana']\n",
    "result = count_occurrences(my_list)\n",
    "print(result)\n"
   ]
  },
  {
   "cell_type": "code",
   "execution_count": 15,
   "metadata": {},
   "outputs": [
    {
     "name": "stdout",
     "output_type": "stream",
     "text": [
      "Reversed String: olleh\n"
     ]
    }
   ],
   "source": [
    "#14. write a code to reverse a string to find the largest number in given list of integers\n",
    "def reverse_string(s):\n",
    "    return s[::-1]\n",
    "\n",
    "# Example usage:\n",
    "input_string = \"hello\"\n",
    "reversed_string = reverse_string(input_string)\n",
    "print(\"Reversed String:\", reversed_string)\n"
   ]
  },
  {
   "cell_type": "code",
   "execution_count": 16,
   "metadata": {},
   "outputs": [
    {
     "name": "stdout",
     "output_type": "stream",
     "text": [
      "List after removing duplicates: [1, 2, 3, 4, 5]\n"
     ]
    }
   ],
   "source": [
    "#15 implement a code to find and remove duplicates from the list while preserving the original orderof elements\n",
    "def remove_duplicates(lst):\n",
    "    seen = set()  # To keep track of seen elements\n",
    "    result = []   # To store elements in original order without duplicates\n",
    "    \n",
    "    for element in lst:\n",
    "        if element not in seen:\n",
    "            seen.add(element)\n",
    "            result.append(element)\n",
    "    \n",
    "    return result\n",
    "\n",
    "# Example usage:\n",
    "my_list = [1, 2, 2, 3, 4, 4, 5]\n",
    "unique_list = remove_duplicates(my_list)\n",
    "print(\"List after removing duplicates:\", unique_list)\n"
   ]
  },
  {
   "cell_type": "code",
   "execution_count": 17,
   "metadata": {},
   "outputs": [
    {
     "name": "stdout",
     "output_type": "stream",
     "text": [
      "Is list1 sorted? True\n",
      "Is list2 sorted? False\n",
      "Is list3 sorted? False\n"
     ]
    }
   ],
   "source": [
    "#16.create a code to check the given list is sorted or not \n",
    "def is_sorted(lst):\n",
    "    # Check if the list is sorted in ascending order\n",
    "    return all(lst[i] <= lst[i + 1] for i in range(len(lst) - 1))\n",
    "\n",
    "# Example usage:\n",
    "list1 = [1, 2, 2, 3, 4, 5]\n",
    "list2 = [5, 4, 3, 2, 1]\n",
    "list3 = [1, 3, 2, 4]\n",
    "\n",
    "print(\"Is list1 sorted?\", is_sorted(list1))  # True\n",
    "print(\"Is list2 sorted?\", is_sorted(list2))  # False\n",
    "print(\"Is list3 sorted?\", is_sorted(list3))  # False\n"
   ]
  },
  {
   "cell_type": "code",
   "execution_count": 18,
   "metadata": {},
   "outputs": [
    {
     "name": "stdout",
     "output_type": "stream",
     "text": [
      "Merged Sorted List: [1, 2, 3, 4, 5, 6, 7, 8]\n"
     ]
    }
   ],
   "source": [
    "#17.write a code to merge two sorted list in a list\n",
    "def merge_sorted_lists(list1, list2):\n",
    "    merged_list = []\n",
    "    i, j = 0, 0\n",
    "    \n",
    "    # Traverse both lists and append the smaller element to the merged_list\n",
    "    while i < len(list1) and j < len(list2):\n",
    "        if list1[i] <= list2[j]:\n",
    "            merged_list.append(list1[i])\n",
    "            i += 1\n",
    "        else:\n",
    "            merged_list.append(list2[j])\n",
    "            j += 1\n",
    "    \n",
    "    # If there are remaining elements in list1, append them\n",
    "    while i < len(list1):\n",
    "        merged_list.append(list1[i])\n",
    "        i += 1\n",
    "    \n",
    "    # If there are remaining elements in list2, append them\n",
    "    while j < len(list2):\n",
    "        merged_list.append(list2[j])\n",
    "        j += 1\n",
    "    \n",
    "    return merged_list\n",
    "\n",
    "# Example usage:\n",
    "list1 = [1, 3, 5, 7]\n",
    "list2 = [2, 4, 6, 8]\n",
    "\n",
    "merged_list = merge_sorted_lists(list1, list2)\n",
    "print(\"Merged Sorted List:\", merged_list)\n"
   ]
  },
  {
   "cell_type": "code",
   "execution_count": 19,
   "metadata": {},
   "outputs": [
    {
     "name": "stdout",
     "output_type": "stream",
     "text": [
      "Intersection: [4, 5]\n"
     ]
    }
   ],
   "source": [
    "#18.implement a code to find the intersection of two given list\n",
    "def find_intersection(list1, list2):\n",
    "    # Convert lists to sets\n",
    "    set1 = set(list1)\n",
    "    set2 = set(list2)\n",
    "    \n",
    "    # Find intersection of two sets\n",
    "    intersection = set1.intersection(set2)\n",
    "    \n",
    "    # Convert the set back to a list (optional)\n",
    "    return list(intersection)\n",
    "\n",
    "# Example usage:\n",
    "list1 = [1, 2, 3, 4, 5]\n",
    "list2 = [4, 5, 6, 7, 8]\n",
    "\n",
    "intersection_list = find_intersection(list1, list2)\n",
    "print(\"Intersection:\", intersection_list)\n"
   ]
  },
  {
   "cell_type": "code",
   "execution_count": 20,
   "metadata": {},
   "outputs": [
    {
     "name": "stdout",
     "output_type": "stream",
     "text": [
      "Union: [1, 2, 3, 4, 5, 6, 7, 8]\n"
     ]
    }
   ],
   "source": [
    "#19.implement  code to find the union of two given list\n",
    "def find_union(list1, list2):\n",
    "    # Convert lists to sets\n",
    "    set1 = set(list1)\n",
    "    set2 = set(list2)\n",
    "    \n",
    "    # Find union of two sets\n",
    "    union = set1.union(set2)\n",
    "    \n",
    "    # Convert the set back to a list (optional)\n",
    "    return list(union)\n",
    "\n",
    "# Example usage:\n",
    "list1 = [1, 2, 3, 4, 5]\n",
    "list2 = [4, 5, 6, 7, 8]\n",
    "\n",
    "union_list = find_union(list1, list2)\n",
    "print(\"Union:\", union_list)\n"
   ]
  },
  {
   "cell_type": "code",
   "execution_count": 21,
   "metadata": {},
   "outputs": [
    {
     "name": "stdout",
     "output_type": "stream",
     "text": [
      "Union without duplicates: [1, 2, 3, 4, 5, 6, 7, 8]\n"
     ]
    }
   ],
   "source": [
    "#20create a code to find the union of two list without duplicates\n",
    "def find_union_no_duplicates(list1, list2):\n",
    "    seen = set()  # To keep track of seen elements\n",
    "    union = []    # To store the union of lists without duplicates\n",
    "    \n",
    "    # Process the first list\n",
    "    for element in list1:\n",
    "        if element not in seen:\n",
    "            seen.add(element)\n",
    "            union.append(element)\n",
    "    \n",
    "    # Process the second list\n",
    "    for element in list2:\n",
    "        if element not in seen:\n",
    "            seen.add(element)\n",
    "            union.append(element)\n",
    "    \n",
    "    return union\n",
    "\n",
    "# Example usage:\n",
    "list1 = [1, 2, 3, 4, 5]\n",
    "list2 = [4, 5, 6, 7, 8]\n",
    "\n",
    "union_list = find_union_no_duplicates(list1, list2)\n",
    "print(\"Union without duplicates:\", union_list)\n"
   ]
  },
  {
   "cell_type": "code",
   "execution_count": 22,
   "metadata": {},
   "outputs": [
    {
     "name": "stdout",
     "output_type": "stream",
     "text": [
      "Shuffled List: [5, 3, 4, 2, 1]\n"
     ]
    }
   ],
   "source": [
    "#21write a code to shuffle a given list randomly without using any built in shuffle function\n",
    "import random\n",
    "\n",
    "def shuffle_list(lst):\n",
    "    # Iterate from the end of the list towards the beginning\n",
    "    for i in range(len(lst) - 1, 0, -1):\n",
    "        # Generate a random index from 0 to i (inclusive)\n",
    "        j = random.randint(0, i)\n",
    "        \n",
    "        # Swap elements at index i and j\n",
    "        lst[i], lst[j] = lst[j], lst[i]\n",
    "    \n",
    "    return lst\n",
    "\n",
    "# Example usage:\n",
    "my_list = [1, 2, 3, 4, 5]\n",
    "shuffled_list = shuffle_list(my_list.copy())  # Use .copy() to avoid modifying the original list\n",
    "print(\"Shuffled List:\", shuffled_list)\n"
   ]
  },
  {
   "cell_type": "code",
   "execution_count": 23,
   "metadata": {},
   "outputs": [
    {
     "name": "stdin",
     "output_type": "stream",
     "text": [
      "Enter the first set of integers (comma-separated):  4,3,5\n",
      "Enter the second set of integers (comma-separated):  3,4,6\n"
     ]
    },
    {
     "name": "stdout",
     "output_type": "stream",
     "text": [
      "Intersection of the two sets: {3, 4}\n"
     ]
    }
   ],
   "source": [
    "#23#22 create a code that prompts the user to enter two sets of integer separated by commas then print intersection of two sets\n",
    "# Function to get a set of integers from user input\n",
    "def get_integer_set(prompt):\n",
    "    while True:\n",
    "        try:\n",
    "            # Prompt user for input\n",
    "            user_input = input(prompt)\n",
    "            # Split input by commas and convert each to an integer\n",
    "            integer_list = list(map(int, user_input.split(',')))\n",
    "            # Convert the list to a set\n",
    "            integer_set = set(integer_list)\n",
    "            return integer_set\n",
    "        except ValueError:\n",
    "            print(\"Invalid input. Please enter a comma-separated list of integers.\")\n",
    "\n",
    "# Get two sets of integers from the user\n",
    "set1 = get_integer_set(\"Enter the first set of integers (comma-separated): \")\n",
    "set2 = get_integer_set(\"Enter the second set of integers (comma-separated): \")\n",
    "\n",
    "# Find the intersection of the two sets\n",
    "intersection = set1.intersection(set2)\n",
    "\n",
    "# Print the intersection\n",
    "print(\"Intersection of the two sets:\", intersection)\n"
   ]
  },
  {
   "cell_type": "code",
   "execution_count": 24,
   "metadata": {},
   "outputs": [
    {
     "name": "stdin",
     "output_type": "stream",
     "text": [
      "Enter the first set of strings (comma-separated):  4,5,7\n",
      "Enter the second set of strings (comma-separated):  3,6,1,5\n"
     ]
    },
    {
     "name": "stdout",
     "output_type": "stream",
     "text": [
      "Elements present in the first set but not in the second set: {'4', '7'}\n"
     ]
    }
   ],
   "source": [
    "#24# Function to get a set of strings from user input\n",
    "def get_string_set(prompt):\n",
    "    while True:\n",
    "        try:\n",
    "            # Prompt user for input\n",
    "            user_input = input(prompt)\n",
    "            # Split input by commas and strip any extra spaces\n",
    "            string_list = [s.strip() for s in user_input.split(',')]\n",
    "            # Convert the list to a set\n",
    "            string_set = set(string_list)\n",
    "            return string_set\n",
    "        except ValueError:\n",
    "            print(\"Invalid input. Please enter a comma-separated list of strings.\")\n",
    "\n",
    "# Get two sets of strings from the user\n",
    "set1 = get_string_set(\"Enter the first set of strings (comma-separated): \")\n",
    "set2 = get_string_set(\"Enter the second set of strings (comma-separated): \")\n",
    "\n",
    "# Find elements in set1 but not in set2\n",
    "difference = set1.difference(set2)\n",
    "\n",
    "# Print the difference\n",
    "print(\"Elements present in the first set but not in the second set:\", difference)\n"
   ]
  },
  {
   "cell_type": "code",
   "execution_count": null,
   "metadata": {},
   "outputs": [],
   "source": [
    "#25def slice_tuple(original_tuple, start_index, end_index):\n",
    "    \"\"\"\n",
    "    Returns a new tuple containing elements from the original tuple\n",
    "    within the specified range of indices (inclusive).\n",
    "\n",
    "    Parameters:\n",
    "    - original_tuple: The tuple from which elements are to be sliced.\n",
    "    - start_index: The starting index of the range (inclusive).\n",
    "    - end_index: The ending index of the range (inclusive).\n",
    "\n",
    "    Returns:\n",
    "    - A new tuple containing the elements in the specified range.\n",
    "    \"\"\"\n",
    "    # Ensure indices are within the valid range\n",
    "    if start_index < 0 or end_index >= len(original_tuple) or start_index > end_index:\n",
    "        raise ValueError(\"Invalid index range\")\n",
    "\n",
    "    # Slice the tuple using the provided indices\n",
    "    sliced_tuple = original_tuple[start_index:end_index + 1]\n",
    "\n",
    "    return sliced_tuple\n",
    "\n",
    "# Test the function\n",
    "if __name__ == \"__main__\":\n",
    "    # Example tuple\n",
    "    example_tuple = (10, 20, 30, 40, 50, 60, 70, 80, 90)\n",
    "\n",
    "    # Take user input for start and end indices\n",
    "    try:\n",
    "        start = int(input(\"Enter the start index: \"))\n",
    "        end = int(input(\"Enter the end index: \"))\n",
    "        \n",
    "        # Get the sliced tuple\n",
    "        result = slice_tuple(example_tuple, start, end)\n",
    "        print(\"Sliced tuple:\", result)\n",
    "    except ValueError as e:\n",
    "        print(\"Error:\", e)\n"
   ]
  },
  {
   "cell_type": "code",
   "execution_count": 38,
   "metadata": {},
   "outputs": [
    {
     "name": "stdin",
     "output_type": "stream",
     "text": [
      "Enter the first set of characters (comma-separated):  1,2,3\n",
      "Enter the second set of characters (comma-separated):  5,6,2\n"
     ]
    },
    {
     "name": "stdout",
     "output_type": "stream",
     "text": [
      "Union of the two sets: {'2', '5', '3', '6', '1'}\n"
     ]
    }
   ],
   "source": [
    "#26\n",
    "def get_character_set(prompt):\n",
    "    \"\"\"\n",
    "    Prompts the user to input a set of characters separated by commas.\n",
    "    \n",
    "    Parameters:\n",
    "    - prompt: The prompt message to display to the user.\n",
    "    \n",
    "    Returns:\n",
    "    - A set of characters input by the user.\n",
    "    \"\"\"\n",
    "    while True:\n",
    "        try:\n",
    "            # Prompt user for input\n",
    "            user_input = input(prompt)\n",
    "            # Split input by commas, strip spaces, and convert to a set\n",
    "            char_set = set(c.strip() for c in user_input.split(','))\n",
    "            return char_set\n",
    "        except ValueError:\n",
    "            print(\"Invalid input. Please enter a comma-separated list of characters.\")\n",
    "\n",
    "# Get two sets of characters from the user\n",
    "set1 = get_character_set(\"Enter the first set of characters (comma-separated): \")\n",
    "set2 = get_character_set(\"Enter the second set of characters (comma-separated): \")\n",
    "\n",
    "# Calculate the union of the two sets\n",
    "union_set = set1.union(set2)\n",
    "\n",
    "# Print the union\n",
    "print(\"Union of the two sets:\", union_set)\n"
   ]
  },
  {
   "cell_type": "code",
   "execution_count": 40,
   "metadata": {},
   "outputs": [
    {
     "name": "stdin",
     "output_type": "stream",
     "text": [
      "Enter a tuple of integers separated by commas:  5,6,2\n"
     ]
    },
    {
     "name": "stdout",
     "output_type": "stream",
     "text": [
      "Maximum value: 6\n",
      "Minimum value: 2\n"
     ]
    }
   ],
   "source": [
    "#27\n",
    "def find_max_min(numbers):\n",
    "    \"\"\"\n",
    "    Takes a tuple of integers and returns the maximum and minimum values using tuple unpacking.\n",
    "    \n",
    "    Parameters:\n",
    "    - numbers: A tuple containing integers.\n",
    "    \n",
    "    Returns:\n",
    "    - A tuple containing the maximum and minimum values.\n",
    "    \"\"\"\n",
    "    if not numbers:\n",
    "        raise ValueError(\"The tuple is empty. Cannot determine max and min values.\")\n",
    "    \n",
    "    # Find the maximum and minimum values\n",
    "    max_value = max(numbers)\n",
    "    min_value = min(numbers)\n",
    "    \n",
    "    # Return the values as a tuple\n",
    "    return (max_value, min_value)\n",
    "\n",
    "# Test the function\n",
    "if __name__ == \"__main__\":\n",
    "    # Example input tuple\n",
    "    input_tuple = tuple(map(int, input(\"Enter a tuple of integers separated by commas: \").split(',')))\n",
    "\n",
    "    try:\n",
    "        # Get the maximum and minimum values\n",
    "        max_value, min_value = find_max_min(input_tuple)\n",
    "        print(\"Maximum value:\", max_value)\n",
    "        print(\"Minimum value:\", min_value)\n",
    "    except ValueError as e:\n",
    "        print(\"Error:\", e)\n"
   ]
  },
  {
   "cell_type": "code",
   "execution_count": 41,
   "metadata": {},
   "outputs": [
    {
     "name": "stdout",
     "output_type": "stream",
     "text": [
      "Union of the two sets: {1, 2, 3, 4, 5, 6, 7, 8}\n",
      "Intersection of the two sets: {4, 5}\n",
      "Difference (set1 - set2): {1, 2, 3}\n",
      "Difference (set2 - set1): {8, 6, 7}\n"
     ]
    }
   ],
   "source": [
    "#28\n",
    "\n",
    "def print_set_operations(set1, set2):\n",
    "    \"\"\"\n",
    "    Computes and prints the union, intersection, and difference of two sets of integers.\n",
    "    \n",
    "    Parameters:\n",
    "    - set1: The first set of integers.\n",
    "    - set2: The second set of integers.\n",
    "    \"\"\"\n",
    "    # Compute union\n",
    "    union_set = set1.union(set2)\n",
    "    print(\"Union of the two sets:\", union_set)\n",
    "    \n",
    "    # Compute intersection\n",
    "    intersection_set = set1.intersection(set2)\n",
    "    print(\"Intersection of the two sets:\", intersection_set)\n",
    "    \n",
    "    # Compute difference (elements in set1 but not in set2)\n",
    "    difference_set = set1.difference(set2)\n",
    "    print(\"Difference (set1 - set2):\", difference_set)\n",
    "    \n",
    "    # Compute difference (elements in set2 but not in set1)\n",
    "    difference_set_reversed = set2.difference(set1)\n",
    "    print(\"Difference (set2 - set1):\", difference_set_reversed)\n",
    "\n",
    "# Example sets\n",
    "set1 = {1, 2, 3, 4, 5}\n",
    "set2 = {4, 5, 6, 7, 8}\n",
    "\n",
    "# Print the results of set operations\n",
    "print_set_operations(set1, set2)\n"
   ]
  },
  {
   "cell_type": "code",
   "execution_count": 43,
   "metadata": {},
   "outputs": [
    {
     "name": "stdin",
     "output_type": "stream",
     "text": [
      "Enter a tuple of integers separated by commas:  5,6,2\n",
      "Enter the element to count:  5\n"
     ]
    },
    {
     "name": "stdout",
     "output_type": "stream",
     "text": [
      "The element 5 occurs 1 times in the tuple.\n"
     ]
    }
   ],
   "source": [
    "#29\n",
    "def count_occurrences(tpl, element):\n",
    "    \"\"\"\n",
    "    Counts the occurrences of a given element in a tuple.\n",
    "    \n",
    "    Parameters:\n",
    "    - tpl: A tuple containing elements.\n",
    "    - element: The element whose occurrences are to be counted.\n",
    "    \n",
    "    Returns:\n",
    "    - The count of occurrences of the element in the tuple.\n",
    "    \"\"\"\n",
    "    return tpl.count(element)\n",
    "\n",
    "# Example usage\n",
    "if __name__ == \"__main__\":\n",
    "    # Input tuple\n",
    "    input_tuple = tuple(map(int, input(\"Enter a tuple of integers separated by commas: \").split(',')))\n",
    "    \n",
    "    # Input element to count\n",
    "    element = int(input(\"Enter the element to count: \"))\n",
    "    \n",
    "    # Get the count of occurrences\n",
    "    count = count_occurrences(input_tuple, element)\n",
    "    \n",
    "    print(f\"The element {element} occurs {count} times in the tuple.\")\n"
   ]
  },
  {
   "cell_type": "code",
   "execution_count": 44,
   "metadata": {},
   "outputs": [
    {
     "name": "stdin",
     "output_type": "stream",
     "text": [
      "Enter the first set of strings (comma-separated):  5,6,2\n",
      "Enter the second set of strings (comma-separated):  1,2,3\n"
     ]
    },
    {
     "name": "stdout",
     "output_type": "stream",
     "text": [
      "Symmetric difference of the two sets: {'3', '6', '5', '1'}\n"
     ]
    }
   ],
   "source": [
    "#30\n",
    "def get_string_set(prompt):\n",
    "    \"\"\"\n",
    "    Prompts the user to input a set of strings separated by commas.\n",
    "    \n",
    "    Parameters:\n",
    "    - prompt: The prompt message to display to the user.\n",
    "    \n",
    "    Returns:\n",
    "    - A set of strings input by the user.\n",
    "    \"\"\"\n",
    "    while True:\n",
    "        try:\n",
    "            # Prompt user for input\n",
    "            user_input = input(prompt)\n",
    "            # Split input by commas and strip any extra spaces\n",
    "            string_set = set(s.strip() for s in user_input.split(','))\n",
    "            return string_set\n",
    "        except ValueError:\n",
    "            print(\"Invalid input. Please enter a comma-separated list of strings.\")\n",
    "\n",
    "# Get two sets of strings from the user\n",
    "set1 = get_string_set(\"Enter the first set of strings (comma-separated): \")\n",
    "set2 = get_string_set(\"Enter the second set of strings (comma-separated): \")\n",
    "\n",
    "# Compute the symmetric difference of the two sets\n",
    "symmetric_diff = set1.symmetric_difference(set2)\n",
    "\n",
    "# Print the symmetric difference\n",
    "print(\"Symmetric difference of the two sets:\", symmetric_diff)\n"
   ]
  },
  {
   "cell_type": "code",
   "execution_count": 45,
   "metadata": {},
   "outputs": [
    {
     "name": "stdin",
     "output_type": "stream",
     "text": [
      "Enter a list of words separated by spaces:  1,5,3,9,4\n"
     ]
    },
    {
     "name": "stdout",
     "output_type": "stream",
     "text": [
      "Word frequencies: {'1,5,3,9,4': 1}\n"
     ]
    }
   ],
   "source": [
    "#31\n",
    "def word_frequencies(word_list):\n",
    "    \"\"\"\n",
    "    Takes a list of words and returns a dictionary where the keys are unique words\n",
    "    and the values are the counts of those words in the list.\n",
    "\n",
    "    Parameters:\n",
    "    - word_list: A list of words (strings).\n",
    "\n",
    "    Returns:\n",
    "    - A dictionary with unique words as keys and their frequencies as values.\n",
    "    \"\"\"\n",
    "    frequency_dict = {}\n",
    "    \n",
    "    for word in word_list:\n",
    "        # Increment the count for each word\n",
    "        if word in frequency_dict:\n",
    "            frequency_dict[word] += 1\n",
    "        else:\n",
    "            frequency_dict[word] = 1\n",
    "    \n",
    "    return frequency_dict\n",
    "\n",
    "# Example usage\n",
    "if __name__ == \"__main__\":\n",
    "    # Get a list of words from user input\n",
    "    input_words = input(\"Enter a list of words separated by spaces: \").split()\n",
    "    \n",
    "    # Get the word frequencies\n",
    "    frequencies = word_frequencies(input_words)\n",
    "    \n",
    "    # Print the dictionary of word frequencies\n",
    "    print(\"Word frequencies:\", frequencies)\n"
   ]
  },
  {
   "cell_type": "code",
   "execution_count": 46,
   "metadata": {},
   "outputs": [
    {
     "name": "stdin",
     "output_type": "stream",
     "text": [
      "Enter the first dictionary (e.g., {'a': 1, 'b': 2}):   {'a': 1, 'b': 2}\n",
      "Enter the second dictionary (e.g., {'b': 3, 'c': 4}):  {'b': 3, 'c': 4}\n"
     ]
    },
    {
     "name": "stdout",
     "output_type": "stream",
     "text": [
      "Merged dictionary: {'a': 1, 'b': 5, 'c': 4}\n"
     ]
    }
   ],
   "source": [
    "#32\n",
    "def merge_dictionaries(dict1, dict2):\n",
    "    \"\"\"\n",
    "    Merges two dictionaries into a single dictionary. If there are common keys,\n",
    "    their values are added together.\n",
    "\n",
    "    Parameters:\n",
    "    - dict1: The first dictionary.\n",
    "    - dict2: The second dictionary.\n",
    "\n",
    "    Returns:\n",
    "    - A dictionary with merged key-value pairs.\n",
    "    \"\"\"\n",
    "    # Initialize the result dictionary\n",
    "    merged_dict = {}\n",
    "\n",
    "    # Add values from the first dictionary\n",
    "    for key, value in dict1.items():\n",
    "        if key in merged_dict:\n",
    "            merged_dict[key] += value\n",
    "        else:\n",
    "            merged_dict[key] = value\n",
    "    \n",
    "    # Add values from the second dictionary\n",
    "    for key, value in dict2.items():\n",
    "        if key in merged_dict:\n",
    "            merged_dict[key] += value\n",
    "        else:\n",
    "            merged_dict[key] = value\n",
    "    \n",
    "    return merged_dict\n",
    "\n",
    "# Example usage\n",
    "if __name__ == \"__main__\":\n",
    "    import ast\n",
    "    \n",
    "    # Input the first dictionary\n",
    "    dict1 = ast.literal_eval(input(\"Enter the first dictionary (e.g., {'a': 1, 'b': 2}): \"))\n",
    "    \n",
    "    # Input the second dictionary\n",
    "    dict2 = ast.literal_eval(input(\"Enter the second dictionary (e.g., {'b': 3, 'c': 4}): \"))\n",
    "    \n",
    "    # Merge the dictionaries\n",
    "    merged = merge_dictionaries(dict1, dict2)\n",
    "    \n",
    "    # Print the merged dictionary\n",
    "    print(\"Merged dictionary:\", merged)\n"
   ]
  },
  {
   "cell_type": "code",
   "execution_count": 47,
   "metadata": {},
   "outputs": [
    {
     "name": "stdin",
     "output_type": "stream",
     "text": [
      "Enter the dictionary (e.g., {'a': 1, 'b': 2}):   {'a': 1, 'b': 2}\n",
      "Enter a list of keys (e.g., ['a', 'c']):  {'b': 3, 'c': 4}\n"
     ]
    },
    {
     "name": "stdout",
     "output_type": "stream",
     "text": [
      "Corresponding values: [2, None]\n"
     ]
    }
   ],
   "source": [
    "#33\n",
    "def get_values_from_dict(dictionary, keys):\n",
    "    \"\"\"\n",
    "    Retrieves values from a dictionary for a list of keys. If a key does not exist in the dictionary,\n",
    "    the function returns 'None' for that key.\n",
    "\n",
    "    Parameters:\n",
    "    - dictionary: The dictionary to access values from.\n",
    "    - keys: A list of keys to look up in the dictionary.\n",
    "\n",
    "    Returns:\n",
    "    - A list of values corresponding to the keys. 'None' for keys that do not exist in the dictionary.\n",
    "    \"\"\"\n",
    "    # Initialize a list to store the results\n",
    "    values = []\n",
    "    \n",
    "    # Iterate over the list of keys\n",
    "    for key in keys:\n",
    "        # Append the value if the key exists, otherwise append 'None'\n",
    "        if key in dictionary:\n",
    "            values.append(dictionary[key])\n",
    "        else:\n",
    "            values.append(None)\n",
    "    \n",
    "    return values\n",
    "\n",
    "# Example usage\n",
    "if __name__ == \"__main__\":\n",
    "    import ast\n",
    "    \n",
    "    # Input the dictionary\n",
    "    dictionary = ast.literal_eval(input(\"Enter the dictionary (e.g., {'a': 1, 'b': 2}): \"))\n",
    "    \n",
    "    # Input the list of keys\n",
    "    keys = ast.literal_eval(input(\"Enter a list of keys (e.g., ['a', 'c']): \"))\n",
    "    \n",
    "    # Get values for the provided keys\n",
    "    result = get_values_from_dict(dictionary, keys)\n",
    "    \n",
    "    # Print the result\n",
    "    print(\"Corresponding values:\", result)\n"
   ]
  },
  {
   "cell_type": "code",
   "execution_count": 48,
   "metadata": {},
   "outputs": [
    {
     "name": "stdin",
     "output_type": "stream",
     "text": [
      "Enter the dictionary (e.g., {'a': 3, 'b': 1, 'c': 2}):   {'a': 1, 'b': 2}\n",
      "Enter the sort order ('ascending' or 'descending'):  {'b': 3, 'c': 4}\n"
     ]
    },
    {
     "name": "stdout",
     "output_type": "stream",
     "text": [
      "Invalid sort order. Defaulting to 'ascending'.\n",
      "Sorted dictionary: {'a': 1, 'b': 2}\n"
     ]
    }
   ],
   "source": [
    "#34\n",
    "def sort_dictionary_by_value(dictionary, order='ascending'):\n",
    "    \"\"\"\n",
    "    Returns a sorted version of the dictionary based on its values.\n",
    "\n",
    "    Parameters:\n",
    "    - dictionary: The dictionary to be sorted.\n",
    "    - order: The sort order ('ascending' or 'descending'). Default is 'ascending'.\n",
    "\n",
    "    Returns:\n",
    "    - A dictionary sorted by its values in the specified order.\n",
    "    \"\"\"\n",
    "    # Determine the sort order\n",
    "    reverse = True if order == 'descending' else False\n",
    "    \n",
    "    # Sort the dictionary by values\n",
    "    sorted_dict = dict(sorted(dictionary.items(), key=lambda item: item[1], reverse=reverse))\n",
    "    \n",
    "    return sorted_dict\n",
    "\n",
    "# Example usage\n",
    "if __name__ == \"__main__\":\n",
    "    import ast\n",
    "    \n",
    "    # Input the dictionary\n",
    "    dictionary = ast.literal_eval(input(\"Enter the dictionary (e.g., {'a': 3, 'b': 1, 'c': 2}): \"))\n",
    "    \n",
    "    # Input the sort order\n",
    "    order = input(\"Enter the sort order ('ascending' or 'descending'): \").strip().lower()\n",
    "    \n",
    "    # Validate sort order input\n",
    "    if order not in ['ascending', 'descending']:\n",
    "        print(\"Invalid sort order. Defaulting to 'ascending'.\")\n",
    "        order = 'ascending'\n",
    "    \n",
    "    # Get the sorted dictionary\n",
    "    sorted_dict = sort_dictionary_by_value(dictionary, order)\n",
    "    \n",
    "    # Print the sorted dictionary\n",
    "    print(\"Sorted dictionary:\", sorted_dict)\n"
   ]
  },
  {
   "cell_type": "code",
   "execution_count": 32,
   "metadata": {},
   "outputs": [],
   "source": [
    "#35"
   ]
  },
  {
   "cell_type": "code",
   "execution_count": null,
   "metadata": {},
   "outputs": [],
   "source": []
  }
 ],
 "metadata": {
  "colab": {
   "provenance": []
  },
  "kernelspec": {
   "display_name": "Python 3 (ipykernel)",
   "language": "python",
   "name": "python3"
  },
  "language_info": {
   "codemirror_mode": {
    "name": "ipython",
    "version": 3
   },
   "file_extension": ".py",
   "mimetype": "text/x-python",
   "name": "python",
   "nbconvert_exporter": "python",
   "pygments_lexer": "ipython3",
   "version": "3.11.7"
  }
 },
 "nbformat": 4,
 "nbformat_minor": 4
}
